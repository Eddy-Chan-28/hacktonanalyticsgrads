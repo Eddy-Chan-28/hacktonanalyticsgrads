{
 "cells": [
  {
   "cell_type": "code",
   "execution_count": null,
   "metadata": {},
   "outputs": [],
   "source": [
    "import pandas as pd\n",
    "import matplotlib.pyplot as plt\n",
    "import seaborn as sns\n",
    "from sklearn.model_selection import GridSearchCV\n",
    "from sklearn.model_selection import train_test_split\n",
    "from sklearn.preprocessing import StandardScaler\n",
    "from sklearn.preprocessing import MinMaxScaler\n",
    "from sklearn.ensemble import RandomForestClassifier\n",
    "from sklearn.metrics import classification_report, confusion_matrix\n",
    "from sklearn.neighbors import KNeighborsClassifier\n",
    "from sklearn.tree import DecisionTreeClassifier\n",
    "from sklearn.impute import KNNImputer\n",
    "from sklearn.impute import SimpleImputer\n",
    "from sklearn.ensemble import BaggingClassifier\n",
    "from sklearn.metrics import f1_score\n",
    "from sklearn.neural_network import MLPClassifier\n",
    "from sklearn.svm import SVC"
   ]
  },
  {
   "cell_type": "code",
   "execution_count": null,
   "metadata": {},
   "outputs": [],
   "source": [
    "#load training and test set\n",
    "training_set = pd.read_parquet(\"ml_data_train_holdout/train_set.parquet\")\n",
    "testing_set = pd.read_parquet(\"ml_data_train_holdout/holdout_set.parquet\")"
   ]
  },
  {
   "cell_type": "code",
   "execution_count": null,
   "metadata": {},
   "outputs": [],
   "source": [
    "#check the data\n",
    "training_set.head(5)"
   ]
  },
  {
   "cell_type": "markdown",
   "metadata": {},
   "source": [
    "### Pre-processing Steps"
   ]
  },
  {
   "cell_type": "code",
   "execution_count": null,
   "metadata": {},
   "outputs": [],
   "source": [
    "#some rows have 2 or more labels, use explode so each row has only 1 label\n",
    "training_set_exploded = training_set.explode('labels')\n",
    "testing_set_exploded = testing_set.explode('labels')"
   ]
  },
  {
   "cell_type": "code",
   "execution_count": null,
   "metadata": {},
   "outputs": [],
   "source": [
    "#check the number of rows and columns\n",
    "training_set_exploded.shape"
   ]
  },
  {
   "cell_type": "code",
   "execution_count": null,
   "metadata": {},
   "outputs": [],
   "source": [
    "#drop duplicate values\n",
    "training_set_exploded = training_set_exploded.drop_duplicates()\n",
    "testing_set_exploded = testing_set_exploded.drop_duplicates()"
   ]
  },
  {
   "cell_type": "code",
   "execution_count": null,
   "metadata": {},
   "outputs": [],
   "source": [
    "#check if there were any duplicates\n",
    "training_set_exploded.shape"
   ]
  },
  {
   "cell_type": "code",
   "execution_count": null,
   "metadata": {},
   "outputs": [],
   "source": [
    "#only use the columns that we seek to analyse\n",
    "mask = training_set_exploded[\"labels\"].isin([\"X1\", \"20-0\", \"1-2\", \"2-0\", \"23-2\"])\n",
    "filtered_training_set = training_set_exploded[mask]\n",
    "\n",
    "test_mask = testing_set_exploded[\"labels\"].isin([\"X1\", \"20-0\", \"1-2\", \"2-0\", \"23-2\"])\n",
    "filtered_testing_set = testing_set_exploded[test_mask]"
   ]
  },
  {
   "cell_type": "code",
   "execution_count": null,
   "metadata": {},
   "outputs": [],
   "source": [
    "null_x = filtered_training_set[\"x\"].isnull().sum()\n",
    "null_y = filtered_training_set[\"y\"].isnull().sum()\n",
    "null_z = filtered_training_set[\"z\"].isnull().sum()\n",
    "null_labels = filtered_training_set[\"labels\"].isnull().sum()\n",
    "\n",
    "null_x, null_y, null_z, null_labels"
   ]
  },
  {
   "cell_type": "code",
   "execution_count": null,
   "metadata": {},
   "outputs": [],
   "source": [
    "#all numeric cols have the same number of nulls check if this is a behviour\n",
    "x_null_mask = filtered_training_set['x'].isnull()\n",
    "filtered_training_set[x_null_mask]"
   ]
  },
  {
   "cell_type": "code",
   "execution_count": null,
   "metadata": {},
   "outputs": [],
   "source": [
    "#drop these rows\n",
    "filtered_training_set = filtered_training_set.dropna()\n",
    "filtered_testing_set = filtered_testing_set.dropna()"
   ]
  },
  {
   "cell_type": "markdown",
   "metadata": {},
   "source": [
    "### Creating the Model"
   ]
  },
  {
   "cell_type": "code",
   "execution_count": null,
   "metadata": {},
   "outputs": [],
   "source": [
    "X_train = filtered_training_set[['x', 'y', 'z']]\n",
    "y_train = filtered_training_set['labels']\n",
    "\n",
    "X_test = filtered_testing_set[['x', 'y', 'z']]\n",
    "y_test = filtered_testing_set['labels']"
   ]
  },
  {
   "cell_type": "code",
   "execution_count": null,
   "metadata": {},
   "outputs": [],
   "source": [
    "scaler = MinMaxScaler()\n",
    "X_train_scaled = scaler.fit_transform(X_train)\n",
    "X_test_scaled = scaler.transform(X_test)"
   ]
  },
  {
   "cell_type": "code",
   "execution_count": null,
   "metadata": {},
   "outputs": [],
   "source": [
    "#use grid search to get the best hyperparameters\n",
    "\n",
    "tree = DecisionTreeClassifier(random_state=42)\n",
    "\n",
    "#potential parameters for decision tree\n",
    "param_grid_dt = {\n",
    "    'max_depth': [None, 5, 10, 15, 20],\n",
    "    'min_samples_split': [2, 5, 10, 20],\n",
    "    'min_samples_leaf': [1, 2, 5, 10],\n",
    "    'criterion': ['gini', 'entropy']\n",
    "}\n",
    "\n",
    "grid_search_dt = GridSearchCV(tree, param_grid_dt, cv=5, scoring='f1_weighted')\n",
    "\n",
    "grid_search_dt.fit(X_train_scaled, y_train)\n",
    "\n",
    "print(\"Best parameters found: \", grid_search_dt.best_params_)\n",
    "\n",
    "best_dt = grid_search_dt.best_estimator_\n",
    "\n",
    "y_test_pred_dt = best_dt.predict(X_test_scaled)\n",
    "\n",
    "test_f1_score_dt = f1_score(y_test, y_test_pred_dt, average='weighted')\n",
    "\n",
    "print(f\"Test F1 Score: {test_f1_score_dt}\")"
   ]
  },
  {
   "cell_type": "markdown",
   "metadata": {},
   "source": [
    "### Bagging using the best hyperparmeters"
   ]
  },
  {
   "cell_type": "markdown",
   "metadata": {},
   "source": [
    "Bagging can be used to reduce variance in models. It is a sort of ensemble learning in which many models trained on various subsets of the training data are combined to produce a more accurate and robust model."
   ]
  },
  {
   "cell_type": "code",
   "execution_count": null,
   "metadata": {},
   "outputs": [],
   "source": [
    "best_params_dt = {'criterion': 'gini', 'max_depth': 15, 'min_samples_leaf': 2, 'min_samples_split': 20, 'random_state':42}\n",
    "\n",
    "optimal_dt = DecisionTreeClassifier(**best_params_dt)\n",
    "\n",
    "bagging_dt = BaggingClassifier(optimal_dt, n_estimators=10, random_state=42)\n",
    "bagging_dt.fit(X_train_scaled, y_train)\n",
    "\n",
    "\n",
    "y_test_pred = bagging_dt.predict(X_test_scaled)\n",
    "\n",
    "weighted_f1 = f1_score(y_test, y_test_pred, average='weighted')\n",
    "\n",
    "print(f\"Weighted F1 Score: {weighted_f1}\")"
   ]
  }
 ],
 "metadata": {
  "kernelspec": {
   "display_name": "Python 3",
   "language": "python",
   "name": "python3"
  },
  "language_info": {
   "codemirror_mode": {
    "name": "ipython",
    "version": 3
   },
   "file_extension": ".py",
   "mimetype": "text/x-python",
   "name": "python",
   "nbconvert_exporter": "python",
   "pygments_lexer": "ipython3",
   "version": "3.12.2"
  }
 },
 "nbformat": 4,
 "nbformat_minor": 2
}
