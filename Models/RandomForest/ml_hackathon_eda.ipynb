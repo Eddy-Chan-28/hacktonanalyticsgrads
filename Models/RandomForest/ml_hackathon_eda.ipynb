{
 "cells": [
  {
   "cell_type": "code",
   "execution_count": 1,
   "id": "33839e38-77e2-4e8e-ba45-9b3c57fe23af",
   "metadata": {
    "tags": []
   },
   "outputs": [],
   "source": [
    "import pandas as pd\n",
    "from pathlib import Path\n",
    "from sklearn.model_selection import train_test_split\n",
    "from sklearn.naive_bayes import MultinomialNB\n",
    "from sklearn.ensemble import RandomForestClassifier\n",
    "from sklearn.metrics import accuracy_score, confusion_matrix, precision_score, recall_score, f1_score\n",
    "import matplotlib.pyplot as plt\n",
    "import seaborn as sns\n",
    "import numpy as np"
   ]
  },
  {
   "cell_type": "code",
   "execution_count": 3,
   "id": "bb75ea9a-10f2-491b-8d91-0dd4e2ff7131",
   "metadata": {
    "tags": []
   },
   "outputs": [
    {
     "name": "stdout",
     "output_type": "stream",
     "text": [
      "[PosixPath('ml_data_train_holdout/train_set.parquet'), PosixPath('ml_data_train_holdout/holdout_set.parquet')]\n"
     ]
    },
    {
     "data": {
      "text/html": [
       "<div>\n",
       "<style scoped>\n",
       "    .dataframe tbody tr th:only-of-type {\n",
       "        vertical-align: middle;\n",
       "    }\n",
       "\n",
       "    .dataframe tbody tr th {\n",
       "        vertical-align: top;\n",
       "    }\n",
       "\n",
       "    .dataframe thead th {\n",
       "        text-align: right;\n",
       "    }\n",
       "</style>\n",
       "<table border=\"1\" class=\"dataframe\">\n",
       "  <thead>\n",
       "    <tr style=\"text-align: right;\">\n",
       "      <th></th>\n",
       "      <th>timestamp</th>\n",
       "      <th>x</th>\n",
       "      <th>y</th>\n",
       "      <th>z</th>\n",
       "      <th>labels</th>\n",
       "      <th>filename</th>\n",
       "    </tr>\n",
       "  </thead>\n",
       "  <tbody>\n",
       "    <tr>\n",
       "      <th>13497564</th>\n",
       "      <td>0.01</td>\n",
       "      <td>0.219971</td>\n",
       "      <td>-2.150879</td>\n",
       "      <td>-1.247314</td>\n",
       "      <td>[SM]</td>\n",
       "      <td>aadi_ga_20150123_1.parquet</td>\n",
       "    </tr>\n",
       "    <tr>\n",
       "      <th>26846227</th>\n",
       "      <td>0.02</td>\n",
       "      <td>0.124756</td>\n",
       "      <td>-1.658203</td>\n",
       "      <td>-0.735352</td>\n",
       "      <td>[SM]</td>\n",
       "      <td>aadi_ga_20150123_1.parquet</td>\n",
       "    </tr>\n",
       "    <tr>\n",
       "      <th>6305228</th>\n",
       "      <td>0.04</td>\n",
       "      <td>0.148926</td>\n",
       "      <td>-1.443359</td>\n",
       "      <td>-0.931641</td>\n",
       "      <td>[SM]</td>\n",
       "      <td>aadi_ga_20150123_1.parquet</td>\n",
       "    </tr>\n",
       "    <tr>\n",
       "      <th>30245674</th>\n",
       "      <td>0.06</td>\n",
       "      <td>0.139893</td>\n",
       "      <td>-1.896484</td>\n",
       "      <td>-1.113281</td>\n",
       "      <td>[SM]</td>\n",
       "      <td>aadi_ga_20150123_1.parquet</td>\n",
       "    </tr>\n",
       "    <tr>\n",
       "      <th>11300293</th>\n",
       "      <td>0.08</td>\n",
       "      <td>0.358154</td>\n",
       "      <td>-2.125977</td>\n",
       "      <td>-1.261963</td>\n",
       "      <td>[SM]</td>\n",
       "      <td>aadi_ga_20150123_1.parquet</td>\n",
       "    </tr>\n",
       "  </tbody>\n",
       "</table>\n",
       "</div>"
      ],
      "text/plain": [
       "          timestamp         x         y         z labels  \\\n",
       "13497564       0.01  0.219971 -2.150879 -1.247314   [SM]   \n",
       "26846227       0.02  0.124756 -1.658203 -0.735352   [SM]   \n",
       "6305228        0.04  0.148926 -1.443359 -0.931641   [SM]   \n",
       "30245674       0.06  0.139893 -1.896484 -1.113281   [SM]   \n",
       "11300293       0.08  0.358154 -2.125977 -1.261963   [SM]   \n",
       "\n",
       "                            filename  \n",
       "13497564  aadi_ga_20150123_1.parquet  \n",
       "26846227  aadi_ga_20150123_1.parquet  \n",
       "6305228   aadi_ga_20150123_1.parquet  \n",
       "30245674  aadi_ga_20150123_1.parquet  \n",
       "11300293  aadi_ga_20150123_1.parquet  "
      ]
     },
     "execution_count": 3,
     "metadata": {},
     "output_type": "execute_result"
    }
   ],
   "source": [
    "# Get Training Data and Holdout data\n",
    "path_to_train_holdout = 'ml_data_train_holdout/'\n",
    "files = list(Path(path_to_train_holdout).glob('*.parquet'))\n",
    "print(files)\n",
    "training_file = files[0]\n",
    "training_data = pd.read_parquet(training_file)\n",
    "training_data.head()\n",
    "#holdout_file = files[1]\n",
    "#holdout_data = pd.read_parquet(holdout_file)\n",
    "#holdout_data.head()"
   ]
  },
  {
   "cell_type": "code",
   "execution_count": 4,
   "id": "b01a76b6-60d4-4395-9a70-a22479338e47",
   "metadata": {
    "tags": []
   },
   "outputs": [
    {
     "name": "stdout",
     "output_type": "stream",
     "text": [
      "Amount of Training Data: 52894345\n"
     ]
    }
   ],
   "source": [
    "print(f'Amount of Training Data: {len(training_data)}')\n",
    "#print(f'Amount of Holdout Data: {len(holdout_data)}')"
   ]
  },
  {
   "cell_type": "code",
   "execution_count": 5,
   "id": "9c4333d7-2579-4268-93fc-1c91146f6408",
   "metadata": {
    "tags": []
   },
   "outputs": [],
   "source": [
    "# Load Ethogram\n",
    "ethogram = pd.read_csv('ethogram_3.4.csv')\n",
    "behaviors = pd.DataFrame(set(behavior for sublist in training_data['labels'] for behavior in sublist), columns=['ID']).merge(ethogram, on='ID', how='left')"
   ]
  },
  {
   "cell_type": "code",
   "execution_count": 31,
   "id": "bcaccd80-5e3d-4aa3-8807-903ee4e4ee16",
   "metadata": {
    "tags": []
   },
   "outputs": [
    {
     "data": {
      "text/html": [
       "<div>\n",
       "<style scoped>\n",
       "    .dataframe tbody tr th:only-of-type {\n",
       "        vertical-align: middle;\n",
       "    }\n",
       "\n",
       "    .dataframe tbody tr th {\n",
       "        vertical-align: top;\n",
       "    }\n",
       "\n",
       "    .dataframe thead th {\n",
       "        text-align: right;\n",
       "    }\n",
       "</style>\n",
       "<table border=\"1\" class=\"dataframe\">\n",
       "  <thead>\n",
       "    <tr style=\"text-align: right;\">\n",
       "      <th></th>\n",
       "      <th>ID</th>\n",
       "      <th>BEHAVIOUR</th>\n",
       "      <th>BEHAVIOUR DESCRIPTION</th>\n",
       "    </tr>\n",
       "  </thead>\n",
       "  <tbody>\n",
       "    <tr>\n",
       "      <th>161</th>\n",
       "      <td>23-3</td>\n",
       "      <td>Tail wagging fast</td>\n",
       "      <td>Tail moving side to side quickly, as in excite...</td>\n",
       "    </tr>\n",
       "    <tr>\n",
       "      <th>162</th>\n",
       "      <td>1-A2</td>\n",
       "      <td>(Resting) Stretched out on right side</td>\n",
       "      <td>Clearly awake, laying on right side, all legs ...</td>\n",
       "    </tr>\n",
       "    <tr>\n",
       "      <th>163</th>\n",
       "      <td>5-5</td>\n",
       "      <td>NaN</td>\n",
       "      <td>NaN</td>\n",
       "    </tr>\n",
       "    <tr>\n",
       "      <th>164</th>\n",
       "      <td>21-12</td>\n",
       "      <td>NaN</td>\n",
       "      <td>NaN</td>\n",
       "    </tr>\n",
       "    <tr>\n",
       "      <th>165</th>\n",
       "      <td>20-0</td>\n",
       "      <td>Drinking - Unspecified</td>\n",
       "      <td>Drinking from a water source, any position</td>\n",
       "    </tr>\n",
       "  </tbody>\n",
       "</table>\n",
       "</div>"
      ],
      "text/plain": [
       "        ID                              BEHAVIOUR  \\\n",
       "161   23-3                      Tail wagging fast   \n",
       "162   1-A2  (Resting) Stretched out on right side   \n",
       "163    5-5                                    NaN   \n",
       "164  21-12                                    NaN   \n",
       "165   20-0                 Drinking - Unspecified   \n",
       "\n",
       "                                 BEHAVIOUR DESCRIPTION  \n",
       "161  Tail moving side to side quickly, as in excite...  \n",
       "162  Clearly awake, laying on right side, all legs ...  \n",
       "163                                                NaN  \n",
       "164                                                NaN  \n",
       "165         Drinking from a water source, any position  "
      ]
     },
     "execution_count": 31,
     "metadata": {},
     "output_type": "execute_result"
    }
   ],
   "source": [
    "behaviors.tail()"
   ]
  },
  {
   "cell_type": "markdown",
   "id": "f97800a1-d019-4567-991b-cea7bf69ec34",
   "metadata": {},
   "source": [
    "# Basic Random Foreest\n",
    "Here I will train a very basic Naive Bayes Classifier, I will not use the full training set and I will take a test set from this sample."
   ]
  },
  {
   "cell_type": "code",
   "execution_count": 5,
   "id": "a726f7c3-d47a-4cdf-a7c6-d86c9a1fcc2b",
   "metadata": {
    "tags": []
   },
   "outputs": [
    {
     "name": "stdout",
     "output_type": "stream",
     "text": [
      "          timestamp         x         y         z labels  \\\n",
      "16822003    757.530 -0.092773 -0.808838 -0.648926      H   \n",
      "51747       412.624  0.656250 -0.312500 -0.937500   NULL   \n",
      "19163301     61.349  0.632813 -0.233643  0.663818   20-0   \n",
      "14507399    139.959  0.669922 -0.549316  0.293945   21-2   \n",
      "8940657      15.831  0.247559  1.083740  0.464844   NULL   \n",
      "24760431    587.120 -1.066162  0.638428  0.100098   33-0   \n",
      "26120001    375.940 -0.900635 -0.437500  0.177246    1-2   \n",
      "11692425    320.833 -0.758789  1.049072  0.639160    5-1   \n",
      "15941543   2245.080 -0.774170 -0.628418 -0.128906    1-1   \n",
      "12370845    324.754 -0.697510 -0.565186 -0.417725    1-C   \n",
      "\n",
      "                                       filename  \n",
      "16822003              mac_ga_20150206_4.parquet  \n",
      "51747               swade_ga_20150528_1.parquet  \n",
      "19163301       kiss_drinking_20220504_1.parquet  \n",
      "14507399    leda_lickingpaws_20221107_1.parquet  \n",
      "8940657     hardee_urination_20220429_1.parquet  \n",
      "24760431             aadi_ga_20150123_3.parquet  \n",
      "26120001            bella_ga_20150602_3.parquet  \n",
      "11692425  nativity_urination_20220428_1.parquet  \n",
      "15941543            frank_ga_20150223_1.parquet  \n",
      "12370845           kassie_ga_20140731_1.parquet  \n"
     ]
    }
   ],
   "source": [
    "sampled_df = training_data.sample(n=600000, random_state=42)\n",
    "# Because the label is a list value, I'll only take first label for now\n",
    "def extract_first_label(labels):\n",
    "    return labels[0]\n",
    "\n",
    "def is_length_one(label_list):\n",
    "    return len(label_list) == 1\n",
    "\n",
    "# Only look at rows with 1 label\n",
    "sampled_df = sampled_df[sampled_df['labels'].apply(is_length_one)]\n",
    "\n",
    "sampled_df['labels'] = sampled_df['labels'].apply(extract_first_label)\n",
    "print(sampled_df.head(10))\n",
    "\n",
    "# Remove any Nan from dataframe\n",
    "sampled_df = sampled_df.dropna()\n",
    "sampled_df = sampled_df[sampled_df.labels != 'NULL']\n",
    "\n",
    "# Take feature and target label\n",
    "features = sampled_df[['x', 'y', 'z']]\n",
    "target = sampled_df['labels']\n",
    "\n",
    "# Split into training and testing\n",
    "X_train, X_test, y_train, y_test = train_test_split(features, target, test_size=0.2, random_state=42)\n",
    "\n",
    "# Train Model\n",
    "model = RandomForestClassifier()\n",
    "model.fit(X_train, y_train)\n",
    "preds = model.predict(X_test)"
   ]
  },
  {
   "cell_type": "code",
   "execution_count": 6,
   "id": "22d64331-4f29-4252-b35a-610389d57219",
   "metadata": {
    "tags": []
   },
   "outputs": [
    {
     "name": "stdout",
     "output_type": "stream",
     "text": [
      "Accuracy: 0.3971\n",
      "F1-score: 0.3715\n"
     ]
    }
   ],
   "source": [
    "accuracy = accuracy_score(y_test, preds)\n",
    "print(f'Accuracy: {accuracy:.4f}')\n",
    "f1 = f1_score(y_test, preds, average='weighted')\n",
    "print(f'F1-score: {f1:.4f}')"
   ]
  },
  {
   "cell_type": "code",
   "execution_count": 7,
   "id": "e30a9265-56ad-459c-b1be-942677554db0",
   "metadata": {
    "tags": []
   },
   "outputs": [
    {
     "name": "stdout",
     "output_type": "stream",
     "text": [
      "F1-score: 0.3715\n"
     ]
    }
   ],
   "source": [
    "f1 = f1_score(y_test, preds, average='weighted')\n",
    "print(f'F1-score: {f1:.4f}')"
   ]
  },
  {
   "cell_type": "code",
   "execution_count": null,
   "id": "8b127655-3754-40c8-b096-105293a26a89",
   "metadata": {},
   "outputs": [],
   "source": []
  }
 ],
 "metadata": {
  "kernelspec": {
   "display_name": "Python 3 (ipykernel)",
   "language": "python",
   "name": "python3"
  },
  "language_info": {
   "codemirror_mode": {
    "name": "ipython",
    "version": 3
   },
   "file_extension": ".py",
   "mimetype": "text/x-python",
   "name": "python",
   "nbconvert_exporter": "python",
   "pygments_lexer": "ipython3",
   "version": "3.10.9"
  }
 },
 "nbformat": 4,
 "nbformat_minor": 5
}
