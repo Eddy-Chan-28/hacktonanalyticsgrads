{
 "cells": [
  {
   "cell_type": "code",
   "execution_count": 1,
   "id": "2d6db2b7-9fce-4c2e-8592-fed69eb74774",
   "metadata": {
    "tags": []
   },
   "outputs": [],
   "source": [
    "import pandas as pd\n",
    "import matplotlib.pyplot as plt\n",
    "import seaborn as sns\n",
    "from sklearn.model_selection import GridSearchCV\n",
    "from sklearn.model_selection import train_test_split\n",
    "from sklearn.preprocessing import StandardScaler\n",
    "from sklearn.preprocessing import MinMaxScaler\n",
    "from sklearn.ensemble import RandomForestClassifier\n",
    "from sklearn.metrics import classification_report, confusion_matrix\n",
    "from sklearn.neighbors import KNeighborsClassifier\n",
    "from sklearn.tree import DecisionTreeClassifier\n",
    "from sklearn.impute import KNNImputer\n",
    "from sklearn.impute import SimpleImputer\n",
    "from sklearn.ensemble import BaggingClassifier\n",
    "from sklearn.metrics import f1_score\n",
    "from sklearn.neural_network import MLPClassifier\n",
    "from sklearn.svm import SVC"
   ]
  },
  {
   "cell_type": "markdown",
   "id": "2331b569",
   "metadata": {},
   "source": [
    "In this notebook we will use grid search to find the best hyperparameters for KNN, Decision Trees and Nueral Networks"
   ]
  },
  {
   "cell_type": "code",
   "execution_count": 2,
   "id": "a9930690-8632-418b-8b6b-8b760c7a10b6",
   "metadata": {
    "tags": []
   },
   "outputs": [],
   "source": [
    "#load training and test set\n",
    "training_set = pd.read_parquet(\"ml_data_train_holdout/train_set.parquet\")\n",
    "testing_set = pd.read_parquet(\"ml_data_train_holdout/holdout_set.parquet\")"
   ]
  },
  {
   "cell_type": "markdown",
   "id": "63b57874",
   "metadata": {},
   "source": [
    "## Pre-Processing"
   ]
  },
  {
   "cell_type": "code",
   "execution_count": 3,
   "id": "afd4f0a6-c388-483f-af9b-75a3af65097b",
   "metadata": {
    "tags": []
   },
   "outputs": [],
   "source": [
    "#some rows have 2 or more labels, use explode so each row has only 1 label\n",
    "training_set_exploded = training_set.explode('labels')\n",
    "testing_set_exploded = testing_set.explode('labels')"
   ]
  },
  {
   "cell_type": "code",
   "execution_count": 4,
   "id": "19553670",
   "metadata": {},
   "outputs": [
    {
     "data": {
      "text/html": [
       "<div>\n",
       "<style scoped>\n",
       "    .dataframe tbody tr th:only-of-type {\n",
       "        vertical-align: middle;\n",
       "    }\n",
       "\n",
       "    .dataframe tbody tr th {\n",
       "        vertical-align: top;\n",
       "    }\n",
       "\n",
       "    .dataframe thead th {\n",
       "        text-align: right;\n",
       "    }\n",
       "</style>\n",
       "<table border=\"1\" class=\"dataframe\">\n",
       "  <thead>\n",
       "    <tr style=\"text-align: right;\">\n",
       "      <th></th>\n",
       "      <th>timestamp</th>\n",
       "      <th>x</th>\n",
       "      <th>y</th>\n",
       "      <th>z</th>\n",
       "      <th>labels</th>\n",
       "      <th>filename</th>\n",
       "    </tr>\n",
       "  </thead>\n",
       "  <tbody>\n",
       "    <tr>\n",
       "      <th>13497564</th>\n",
       "      <td>0.010</td>\n",
       "      <td>0.219971</td>\n",
       "      <td>-2.150879</td>\n",
       "      <td>-1.247314</td>\n",
       "      <td>SM</td>\n",
       "      <td>aadi_ga_20150123_1.parquet</td>\n",
       "    </tr>\n",
       "    <tr>\n",
       "      <th>26846227</th>\n",
       "      <td>0.020</td>\n",
       "      <td>0.124756</td>\n",
       "      <td>-1.658203</td>\n",
       "      <td>-0.735352</td>\n",
       "      <td>SM</td>\n",
       "      <td>aadi_ga_20150123_1.parquet</td>\n",
       "    </tr>\n",
       "    <tr>\n",
       "      <th>6305228</th>\n",
       "      <td>0.040</td>\n",
       "      <td>0.148926</td>\n",
       "      <td>-1.443359</td>\n",
       "      <td>-0.931641</td>\n",
       "      <td>SM</td>\n",
       "      <td>aadi_ga_20150123_1.parquet</td>\n",
       "    </tr>\n",
       "    <tr>\n",
       "      <th>30245674</th>\n",
       "      <td>0.060</td>\n",
       "      <td>0.139893</td>\n",
       "      <td>-1.896484</td>\n",
       "      <td>-1.113281</td>\n",
       "      <td>SM</td>\n",
       "      <td>aadi_ga_20150123_1.parquet</td>\n",
       "    </tr>\n",
       "    <tr>\n",
       "      <th>11300293</th>\n",
       "      <td>0.080</td>\n",
       "      <td>0.358154</td>\n",
       "      <td>-2.125977</td>\n",
       "      <td>-1.261963</td>\n",
       "      <td>SM</td>\n",
       "      <td>aadi_ga_20150123_1.parquet</td>\n",
       "    </tr>\n",
       "    <tr>\n",
       "      <th>...</th>\n",
       "      <td>...</td>\n",
       "      <td>...</td>\n",
       "      <td>...</td>\n",
       "      <td>...</td>\n",
       "      <td>...</td>\n",
       "      <td>...</td>\n",
       "    </tr>\n",
       "    <tr>\n",
       "      <th>159516</th>\n",
       "      <td>622.109</td>\n",
       "      <td>-0.359375</td>\n",
       "      <td>0.531250</td>\n",
       "      <td>-0.750000</td>\n",
       "      <td>SM</td>\n",
       "      <td>zwicky_ga_20150629_1.parquet</td>\n",
       "    </tr>\n",
       "    <tr>\n",
       "      <th>27452467</th>\n",
       "      <td>622.129</td>\n",
       "      <td>-0.843750</td>\n",
       "      <td>-0.234375</td>\n",
       "      <td>-1.218750</td>\n",
       "      <td>SM</td>\n",
       "      <td>zwicky_ga_20150629_1.parquet</td>\n",
       "    </tr>\n",
       "    <tr>\n",
       "      <th>644896</th>\n",
       "      <td>622.139</td>\n",
       "      <td>-1.156250</td>\n",
       "      <td>-1.546875</td>\n",
       "      <td>-1.406250</td>\n",
       "      <td>SM</td>\n",
       "      <td>zwicky_ga_20150629_1.parquet</td>\n",
       "    </tr>\n",
       "    <tr>\n",
       "      <th>11101991</th>\n",
       "      <td>622.159</td>\n",
       "      <td>0.546875</td>\n",
       "      <td>-6.406250</td>\n",
       "      <td>-0.921875</td>\n",
       "      <td>SM</td>\n",
       "      <td>zwicky_ga_20150629_1.parquet</td>\n",
       "    </tr>\n",
       "    <tr>\n",
       "      <th>10347225</th>\n",
       "      <td>622.169</td>\n",
       "      <td>0.140625</td>\n",
       "      <td>-8.000000</td>\n",
       "      <td>-0.875000</td>\n",
       "      <td>SM</td>\n",
       "      <td>zwicky_ga_20150629_1.parquet</td>\n",
       "    </tr>\n",
       "  </tbody>\n",
       "</table>\n",
       "<p>79732876 rows × 6 columns</p>\n",
       "</div>"
      ],
      "text/plain": [
       "          timestamp         x         y         z labels  \\\n",
       "13497564      0.010  0.219971 -2.150879 -1.247314     SM   \n",
       "26846227      0.020  0.124756 -1.658203 -0.735352     SM   \n",
       "6305228       0.040  0.148926 -1.443359 -0.931641     SM   \n",
       "30245674      0.060  0.139893 -1.896484 -1.113281     SM   \n",
       "11300293      0.080  0.358154 -2.125977 -1.261963     SM   \n",
       "...             ...       ...       ...       ...    ...   \n",
       "159516      622.109 -0.359375  0.531250 -0.750000     SM   \n",
       "27452467    622.129 -0.843750 -0.234375 -1.218750     SM   \n",
       "644896      622.139 -1.156250 -1.546875 -1.406250     SM   \n",
       "11101991    622.159  0.546875 -6.406250 -0.921875     SM   \n",
       "10347225    622.169  0.140625 -8.000000 -0.875000     SM   \n",
       "\n",
       "                              filename  \n",
       "13497564    aadi_ga_20150123_1.parquet  \n",
       "26846227    aadi_ga_20150123_1.parquet  \n",
       "6305228     aadi_ga_20150123_1.parquet  \n",
       "30245674    aadi_ga_20150123_1.parquet  \n",
       "11300293    aadi_ga_20150123_1.parquet  \n",
       "...                                ...  \n",
       "159516    zwicky_ga_20150629_1.parquet  \n",
       "27452467  zwicky_ga_20150629_1.parquet  \n",
       "644896    zwicky_ga_20150629_1.parquet  \n",
       "11101991  zwicky_ga_20150629_1.parquet  \n",
       "10347225  zwicky_ga_20150629_1.parquet  \n",
       "\n",
       "[79732876 rows x 6 columns]"
      ]
     },
     "execution_count": 4,
     "metadata": {},
     "output_type": "execute_result"
    }
   ],
   "source": [
    "training_set_exploded"
   ]
  },
  {
   "cell_type": "code",
   "execution_count": 5,
   "id": "67c4e0f4-a3e4-4b1d-90c6-0a1043b20764",
   "metadata": {
    "tags": []
   },
   "outputs": [
    {
     "data": {
      "text/plain": [
       "(79732876, 6)"
      ]
     },
     "execution_count": 5,
     "metadata": {},
     "output_type": "execute_result"
    }
   ],
   "source": [
    "training_set_exploded.shape"
   ]
  },
  {
   "cell_type": "code",
   "execution_count": 6,
   "id": "db0cd59e-0a92-4799-b197-eb5c3c8d1f67",
   "metadata": {
    "tags": []
   },
   "outputs": [],
   "source": [
    "training_set_exploded = training_set_exploded.drop_duplicates()\n",
    "\n",
    "testing_set_exploded = testing_set_exploded.drop_duplicates()"
   ]
  },
  {
   "cell_type": "code",
   "execution_count": 7,
   "id": "05698fd8",
   "metadata": {},
   "outputs": [
    {
     "name": "stderr",
     "output_type": "stream",
     "text": [
      "/var/folders/gy/jz7sp2k17gzcs_f4b6_f0bwc0000gp/T/ipykernel_19971/1848722270.py:2: SettingWithCopyWarning: \n",
      "A value is trying to be set on a copy of a slice from a DataFrame.\n",
      "Try using .loc[row_indexer,col_indexer] = value instead\n",
      "\n",
      "See the caveats in the documentation: https://pandas.pydata.org/pandas-docs/stable/user_guide/indexing.html#returning-a-view-versus-a-copy\n",
      "  training_set_exploded['labels'] = training_set_exploded['labels'].str.strip()\n"
     ]
    }
   ],
   "source": [
    "# Trim whitespace from 'labels' column in both datasets\n",
    "training_set_exploded['labels'] = training_set_exploded['labels'].str.strip()\n",
    "testing_set_exploded['labels'] = testing_set_exploded['labels'].str.strip()"
   ]
  },
  {
   "cell_type": "code",
   "execution_count": 8,
   "id": "3f7892aa-310a-4ba1-a48b-dfe940d4ed4e",
   "metadata": {
    "tags": []
   },
   "outputs": [
    {
     "data": {
      "text/plain": [
       "(79729451, 6)"
      ]
     },
     "execution_count": 8,
     "metadata": {},
     "output_type": "execute_result"
    }
   ],
   "source": [
    "training_set_exploded.shape"
   ]
  },
  {
   "cell_type": "code",
   "execution_count": 9,
   "id": "ee22a414-674a-45c0-99ed-4d6c51a217ff",
   "metadata": {
    "tags": []
   },
   "outputs": [
    {
     "data": {
      "text/plain": [
       "(np.int64(234032), np.int64(234032), np.int64(234032), np.int64(0))"
      ]
     },
     "execution_count": 9,
     "metadata": {},
     "output_type": "execute_result"
    }
   ],
   "source": [
    "null_x = training_set_exploded[\"x\"].isnull().sum()\n",
    "null_y = training_set_exploded[\"y\"].isnull().sum()\n",
    "null_z = training_set_exploded[\"z\"].isnull().sum()\n",
    "null_labels = training_set_exploded[\"labels\"].isnull().sum()\n",
    "\n",
    "null_x, null_y, null_z, null_labels"
   ]
  },
  {
   "cell_type": "code",
   "execution_count": 10,
   "id": "43a0c9fe",
   "metadata": {},
   "outputs": [],
   "source": [
    "#remove null values (currently drop, can be imputed with mean etc)\n",
    "training_set_exploded = training_set_exploded.dropna()\n",
    "testing_set_exploded = testing_set_exploded.dropna()"
   ]
  },
  {
   "cell_type": "code",
   "execution_count": 11,
   "id": "e1711682-1bf0-4a24-b5f1-19a093db433f",
   "metadata": {},
   "outputs": [],
   "source": [
    "mask = training_set_exploded[\"labels\"].isin([\"X1\", \"20-0\", \"1-2\", \"2-0\", \"23-2\"])\n",
    "filtered_training_set = training_set_exploded[mask]\n",
    "\n",
    "test_mask = testing_set_exploded[\"labels\"].isin([\"X1\", \"20-0\", \"1-2\", \"2-0\", \"23-2\"])\n",
    "filtered_testing_set = testing_set_exploded[test_mask]"
   ]
  },
  {
   "cell_type": "markdown",
   "id": "82bf40b0",
   "metadata": {},
   "source": [
    "## Creating the models"
   ]
  },
  {
   "cell_type": "code",
   "execution_count": 12,
   "id": "525329d9-8bfd-432a-8636-3ce3c148d123",
   "metadata": {},
   "outputs": [],
   "source": [
    "sampled_training_set = filtered_training_set.sample(n=200000, random_state=42)\n",
    "X_train = sampled_training_set[['x', 'y', 'z']]\n",
    "y_train = sampled_training_set['labels']\n",
    "\n",
    "#X_train = filtered_training_set[['x', 'y', 'z']]\n",
    "#y_train = filtered_training_set['labels']\n",
    "\n",
    "# For testing data\n",
    "X_test = filtered_testing_set[['x', 'y', 'z']]\n",
    "y_test = filtered_testing_set['labels']"
   ]
  },
  {
   "cell_type": "code",
   "execution_count": 13,
   "id": "fc8f3a43-c0ad-486c-aa28-185eb496b20c",
   "metadata": {},
   "outputs": [],
   "source": [
    "\n",
    "scaler = MinMaxScaler()\n",
    "\n",
    "#scaler = StandardScaler()\n",
    "\n",
    "X_train_scaled = scaler.fit_transform(X_train)\n",
    "\n",
    "X_test_scaled = scaler.transform(X_test)"
   ]
  },
  {
   "cell_type": "code",
   "execution_count": 14,
   "id": "e7fd5a7c",
   "metadata": {},
   "outputs": [
    {
     "data": {
      "text/plain": [
       "(200000, 3)"
      ]
     },
     "execution_count": 14,
     "metadata": {},
     "output_type": "execute_result"
    }
   ],
   "source": [
    "X_train_scaled.shape"
   ]
  },
  {
   "cell_type": "markdown",
   "id": "20fe9a99",
   "metadata": {},
   "source": [
    "### Decision Trees"
   ]
  },
  {
   "cell_type": "code",
   "execution_count": 15,
   "id": "9d52164e",
   "metadata": {},
   "outputs": [
    {
     "name": "stdout",
     "output_type": "stream",
     "text": [
      "Best parameters found:  {'criterion': 'gini', 'max_depth': 15, 'min_samples_leaf': 1, 'min_samples_split': 20}\n",
      "Test F1 Score: 0.655888421613866\n"
     ]
    }
   ],
   "source": [
    "tree = DecisionTreeClassifier(random_state=42)\n",
    "\n",
    "#grid search for dt\n",
    "param_grid_dt = {\n",
    "    'max_depth': [None, 5, 10, 15, 20],\n",
    "    'min_samples_split': [2, 5, 10, 20],\n",
    "    'min_samples_leaf': [1, 2, 5, 10],\n",
    "    'criterion': ['gini', 'entropy']\n",
    "}\n",
    "\n",
    "grid_search_dt = GridSearchCV(tree, param_grid_dt, cv=5, scoring='f1_weighted')\n",
    "\n",
    "grid_search_dt.fit(X_train_scaled, y_train)\n",
    "\n",
    "print(\"Best parameters found: \", grid_search_dt.best_params_)\n",
    "\n",
    "best_dt = grid_search_dt.best_estimator_\n",
    "\n",
    "y_test_pred_dt = best_dt.predict(X_test_scaled)\n",
    "\n",
    "test_f1_score_dt = f1_score(y_test, y_test_pred_dt, average='weighted')\n",
    "print(f\"Test F1 Score: {test_f1_score_dt}\")"
   ]
  },
  {
   "cell_type": "markdown",
   "id": "f0330514",
   "metadata": {},
   "source": [
    "### K-Nearest Neighbours"
   ]
  },
  {
   "cell_type": "code",
   "execution_count": 16,
   "id": "be58d335",
   "metadata": {},
   "outputs": [
    {
     "name": "stdout",
     "output_type": "stream",
     "text": [
      "Best parameters found:  {'metric': 'euclidean', 'n_neighbors': 21, 'weights': 'uniform'}\n",
      "Test F1 Score: 0.6690005356498379\n"
     ]
    }
   ],
   "source": [
    "knn = KNeighborsClassifier()\n",
    "\n",
    "#grid search for knn\n",
    "param_grid = {\n",
    "    'n_neighbors': [2, 3, 5, 7, 10, 15, 18, 21],\n",
    "    'weights': ['uniform', 'distance'],\n",
    "    'metric': ['euclidean', 'manhattan', 'minkowski']\n",
    "}\n",
    "\n",
    "grid_search_knn = GridSearchCV(knn, param_grid, cv=5, scoring='f1_weighted')\n",
    "\n",
    "grid_search_knn.fit(X_train_scaled, y_train)\n",
    "\n",
    "print(\"Best parameters found: \", grid_search_knn.best_params_)\n",
    "\n",
    "best_knn = grid_search_knn.best_estimator_\n",
    "\n",
    "y_test_pred = best_knn.predict(X_test_scaled)\n",
    "\n",
    "test_f1_score = f1_score(y_test, y_test_pred, average='weighted')\n",
    "\n",
    "print(f\"Test F1 Score: {test_f1_score}\")"
   ]
  },
  {
   "cell_type": "markdown",
   "id": "b2333d9f",
   "metadata": {},
   "source": [
    "#### Nueral Network"
   ]
  },
  {
   "cell_type": "code",
   "execution_count": 19,
   "id": "7b6c6a39",
   "metadata": {},
   "outputs": [
    {
     "name": "stdout",
     "output_type": "stream",
     "text": [
      "F1-Score of the MLP classifier: 0.6733125059285231\n"
     ]
    }
   ],
   "source": [
    "mlp = MLPClassifier(hidden_layer_sizes=(100,), max_iter=500, solver='adam', random_state=42)\n",
    "\n",
    "mlp.fit(X_train_scaled, y_train)\n",
    "\n",
    "y_pred = mlp.predict(X_test_scaled)\n",
    "\n",
    "weighted_f1 = f1_score(y_test, y_test_pred, average='weighted')\n",
    "print(\"F1-Score of the MLP classifier:\", weighted_f1)"
   ]
  },
  {
   "cell_type": "markdown",
   "id": "c2341f8c",
   "metadata": {},
   "source": [
    "## Performing bagging on the best hyperparameters"
   ]
  },
  {
   "cell_type": "markdown",
   "id": "cc09653e",
   "metadata": {},
   "source": [
    "#### KNN"
   ]
  },
  {
   "cell_type": "code",
   "execution_count": 17,
   "id": "7b496c97",
   "metadata": {},
   "outputs": [
    {
     "name": "stdout",
     "output_type": "stream",
     "text": [
      "Weighted F1 Score: 0.6709222206506011\n"
     ]
    }
   ],
   "source": [
    "best_params_knn = {'metric': 'manhattan', 'n_neighbors': 21, 'weights': 'uniform'}\n",
    "\n",
    "optimal_knn = KNeighborsClassifier(**best_params_knn)\n",
    "\n",
    "bagging_knn= BaggingClassifier(optimal_knn, n_estimators=10, random_state=42)\n",
    "bagging_knn.fit(X_train_scaled, y_train)\n",
    "\n",
    "\n",
    "y_test_pred = bagging_knn.predict(X_test_scaled)\n",
    "\n",
    "weighted_f1 = f1_score(y_test, y_test_pred, average='weighted')\n",
    "print(f\"Weighted F1 Score: {weighted_f1}\")"
   ]
  },
  {
   "cell_type": "markdown",
   "id": "4ad45e45",
   "metadata": {},
   "source": [
    "#### Decision Trees\n",
    "\n",
    "This is the best so far"
   ]
  },
  {
   "cell_type": "code",
   "execution_count": 18,
   "id": "8ebd7bff",
   "metadata": {},
   "outputs": [
    {
     "name": "stdout",
     "output_type": "stream",
     "text": [
      "Weighted F1 Score: 0.6733125059285231\n"
     ]
    }
   ],
   "source": [
    "best_params_dt = {'criterion': 'gini', 'max_depth': 15, 'min_samples_leaf': 2, 'min_samples_split': 20, 'random_state':42}\n",
    "\n",
    "optimal_dt = DecisionTreeClassifier(**best_params_dt)\n",
    "\n",
    "bagging_dt = BaggingClassifier(optimal_dt, n_estimators=10, random_state=42)\n",
    "bagging_dt.fit(X_train_scaled, y_train)\n",
    "\n",
    "\n",
    "y_test_pred = bagging_dt.predict(X_test_scaled)\n",
    "\n",
    "weighted_f1 = f1_score(y_test, y_test_pred, average='weighted')\n",
    "print(f\"Weighted F1 Score: {weighted_f1}\")"
   ]
  }
 ],
 "metadata": {
  "kernelspec": {
   "display_name": "Python 3 (ipykernel)",
   "language": "python",
   "name": "python3"
  },
  "language_info": {
   "codemirror_mode": {
    "name": "ipython",
    "version": 3
   },
   "file_extension": ".py",
   "mimetype": "text/x-python",
   "name": "python",
   "nbconvert_exporter": "python",
   "pygments_lexer": "ipython3",
   "version": "3.12.2"
  }
 },
 "nbformat": 4,
 "nbformat_minor": 5
}
