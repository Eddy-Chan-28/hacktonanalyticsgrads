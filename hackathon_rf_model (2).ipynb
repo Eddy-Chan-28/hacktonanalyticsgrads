{
 "cells": [
  {
   "cell_type": "code",
   "execution_count": 2,
   "id": "349b21d6-bf84-4cd5-b734-880fcb1c9411",
   "metadata": {
    "collapsed": true,
    "jupyter": {
     "outputs_hidden": true
    },
    "tags": []
   },
   "outputs": [
    {
     "name": "stdout",
     "output_type": "stream",
     "text": [
      "Collecting seaborn\n",
      "  Using cached seaborn-0.13.2-py3-none-any.whl (294 kB)\n",
      "Collecting scikit-learn\n",
      "  Using cached scikit_learn-1.5.2-cp310-cp310-manylinux_2_17_x86_64.manylinux2014_x86_64.whl (13.3 MB)\n",
      "Collecting matplotlib\n",
      "  Using cached matplotlib-3.9.2-cp310-cp310-manylinux_2_17_x86_64.manylinux2014_x86_64.whl (8.3 MB)\n",
      "Requirement already satisfied: numpy!=1.24.0,>=1.20 in /opt/conda/lib/python3.10/site-packages (from seaborn) (1.24.2)\n",
      "Requirement already satisfied: pandas>=1.2 in /opt/conda/lib/python3.10/site-packages (from seaborn) (1.3.5)\n",
      "Collecting scipy>=1.6.0\n",
      "  Using cached scipy-1.14.1-cp310-cp310-manylinux_2_17_x86_64.manylinux2014_x86_64.whl (41.2 MB)\n",
      "Collecting joblib>=1.2.0\n",
      "  Using cached joblib-1.4.2-py3-none-any.whl (301 kB)\n",
      "Collecting threadpoolctl>=3.1.0\n",
      "  Using cached threadpoolctl-3.5.0-py3-none-any.whl (18 kB)\n",
      "Collecting kiwisolver>=1.3.1\n",
      "  Using cached kiwisolver-1.4.7-cp310-cp310-manylinux_2_12_x86_64.manylinux2010_x86_64.whl (1.6 MB)\n",
      "Collecting contourpy>=1.0.1\n",
      "  Using cached contourpy-1.3.1-cp310-cp310-manylinux_2_17_x86_64.manylinux2014_x86_64.whl (324 kB)\n",
      "Collecting pyparsing>=2.3.1\n",
      "  Using cached pyparsing-3.2.0-py3-none-any.whl (106 kB)\n",
      "Requirement already satisfied: python-dateutil>=2.7 in /opt/conda/lib/python3.10/site-packages (from matplotlib) (2.8.2)\n",
      "Requirement already satisfied: packaging>=20.0 in /opt/conda/lib/python3.10/site-packages (from matplotlib) (23.0)\n",
      "Collecting pillow>=8\n",
      "  Using cached pillow-11.0.0-cp310-cp310-manylinux_2_28_x86_64.whl (4.4 MB)\n",
      "Collecting cycler>=0.10\n",
      "  Using cached cycler-0.12.1-py3-none-any.whl (8.3 kB)\n",
      "Collecting fonttools>=4.22.0\n",
      "  Using cached fonttools-4.54.1-cp310-cp310-manylinux_2_17_x86_64.manylinux2014_x86_64.whl (4.6 MB)\n",
      "Requirement already satisfied: pytz>=2017.3 in /opt/conda/lib/python3.10/site-packages (from pandas>=1.2->seaborn) (2022.7.1)\n",
      "Requirement already satisfied: six>=1.5 in /opt/conda/lib/python3.10/site-packages (from python-dateutil>=2.7->matplotlib) (1.16.0)\n",
      "Installing collected packages: threadpoolctl, scipy, pyparsing, pillow, kiwisolver, joblib, fonttools, cycler, contourpy, scikit-learn, matplotlib, seaborn\n",
      "Successfully installed contourpy-1.3.1 cycler-0.12.1 fonttools-4.54.1 joblib-1.4.2 kiwisolver-1.4.7 matplotlib-3.9.2 pillow-11.0.0 pyparsing-3.2.0 scikit-learn-1.5.2 scipy-1.14.1 seaborn-0.13.2 threadpoolctl-3.5.0\n",
      "Note: you may need to restart the kernel to use updated packages.\n"
     ]
    }
   ],
   "source": [
    "pip install seaborn scikit-learn matplotlib"
   ]
  },
  {
   "cell_type": "code",
   "execution_count": 21,
   "id": "81cf2043-d3ff-4a74-b88d-247d35cf593b",
   "metadata": {
    "tags": []
   },
   "outputs": [],
   "source": [
    "import pandas as pd\n",
    "from pathlib import Path\n",
    "from sklearn.model_selection import train_test_split\n",
    "from sklearn.naive_bayes import MultinomialNB\n",
    "from sklearn.ensemble import RandomForestClassifier\n",
    "from sklearn.metrics import accuracy_score, confusion_matrix, precision_score, recall_score, f1_score\n",
    "import matplotlib.pyplot as plt\n",
    "import seaborn as sns\n",
    "import numpy as np\n",
    "from sklearn.preprocessing import MinMaxScaler"
   ]
  },
  {
   "cell_type": "code",
   "execution_count": 22,
   "id": "6c80635d-fd0c-43fe-ac2b-cd8361de3aa7",
   "metadata": {
    "tags": []
   },
   "outputs": [
    {
     "name": "stdout",
     "output_type": "stream",
     "text": [
      "[PosixPath('ml_data_train_holdout/train_set.parquet'), PosixPath('ml_data_train_holdout/holdout_set.parquet')]\n",
      "Amount of Training Data: 52894345\n"
     ]
    }
   ],
   "source": [
    "# Get Training Data and Holdout data\n",
    "path_to_train_holdout = 'ml_data_train_holdout/'\n",
    "files = list(Path(path_to_train_holdout).glob('*.parquet'))\n",
    "print(files)\n",
    "training_file = files[0]\n",
    "training_data = pd.read_parquet(training_file)\n",
    "training_data.head()\n",
    "#holdout_file = files[1]\n",
    "#holdout_data = pd.read_parquet(holdout_file)\n",
    "#holdout_data.head()\n",
    "print(f'Amount of Training Data: {len(training_data)}')"
   ]
  },
  {
   "cell_type": "markdown",
   "id": "95c47a3f-9b15-425a-9494-e09b1be9da31",
   "metadata": {
    "jp-MarkdownHeadingCollapsed": true,
    "tags": []
   },
   "source": [
    "# Only Using 1 label"
   ]
  },
  {
   "cell_type": "code",
   "execution_count": 9,
   "id": "99052ace-c0c6-4014-ad73-651a1f26939b",
   "metadata": {
    "tags": []
   },
   "outputs": [
    {
     "name": "stdout",
     "output_type": "stream",
     "text": [
      "          timestamp         x         y         z labels  \\\n",
      "16822003    757.530 -0.092773 -0.808838 -0.648926      H   \n",
      "51747       412.624  0.656250 -0.312500 -0.937500   NULL   \n",
      "19163301     61.349  0.632813 -0.233643  0.663818   20-0   \n",
      "14507399    139.959  0.669922 -0.549316  0.293945   21-2   \n",
      "8940657      15.831  0.247559  1.083740  0.464844   NULL   \n",
      "24760431    587.120 -1.066162  0.638428  0.100098   33-0   \n",
      "26120001    375.940 -0.900635 -0.437500  0.177246    1-2   \n",
      "11692425    320.833 -0.758789  1.049072  0.639160    5-1   \n",
      "15941543   2245.080 -0.774170 -0.628418 -0.128906    1-1   \n",
      "12370845    324.754 -0.697510 -0.565186 -0.417725    1-C   \n",
      "\n",
      "                                       filename  \n",
      "16822003              mac_ga_20150206_4.parquet  \n",
      "51747               swade_ga_20150528_1.parquet  \n",
      "19163301       kiss_drinking_20220504_1.parquet  \n",
      "14507399    leda_lickingpaws_20221107_1.parquet  \n",
      "8940657     hardee_urination_20220429_1.parquet  \n",
      "24760431             aadi_ga_20150123_3.parquet  \n",
      "26120001            bella_ga_20150602_3.parquet  \n",
      "11692425  nativity_urination_20220428_1.parquet  \n",
      "15941543            frank_ga_20150223_1.parquet  \n",
      "12370845           kassie_ga_20140731_1.parquet  \n"
     ]
    }
   ],
   "source": [
    "# Split into training and testing\n",
    "\n",
    "sampled_df = training_data.sample(n=600000, random_state=42)\n",
    "# Because the label is a list value, I'll only take first label for now\n",
    "def extract_first_label(labels):\n",
    "    return labels[0]\n",
    "\n",
    "def is_length_one(label_list):\n",
    "    return len(label_list) == 1\n",
    "\n",
    "# Only look at rows with 1 label\n",
    "sampled_df = sampled_df[sampled_df['labels'].apply(is_length_one)]\n",
    "\n",
    "sampled_df['labels'] = sampled_df['labels'].apply(extract_first_label)\n",
    "print(sampled_df.head(10))\n",
    "\n",
    "# Remove any Nan from dataframe\n",
    "sampled_df = sampled_df.dropna()\n",
    "sampled_df = sampled_df[sampled_df.labels != 'NULL']\n",
    "\n",
    "# Take feature and target label\n",
    "features = sampled_df[['x', 'y', 'z']]\n",
    "target = sampled_df['labels']\n",
    "\n",
    "# Split into training and testing\n",
    "X_train, X_test, y_train, y_test = train_test_split(features, target, test_size=0.2, random_state=42)"
   ]
  },
  {
   "cell_type": "markdown",
   "id": "d9a59914-53c2-4318-9e95-054ef510985a",
   "metadata": {},
   "source": [
    "## Random Forest"
   ]
  },
  {
   "cell_type": "code",
   "execution_count": 6,
   "id": "9e2f535c-2d2c-4e52-ab5a-53c6fdfa11c7",
   "metadata": {
    "tags": []
   },
   "outputs": [],
   "source": [
    "# First need to use minmax scaler on data\n",
    "# Initializing the MinMaxScaler\n",
    "scaler = MinMaxScaler()\n",
    "\n",
    "# Transforming the data to be in the range [0, 1]\n",
    "X_train = scaler.fit_transform(X_train)\n",
    "X_test = scaler.transform(X_test)\n",
    "\n",
    "# Train Model\n",
    "rf_model = RandomForestClassifier()\n",
    "rf_model.fit(X_train, y_train)\n",
    "rf_preds = rf_model.predict(X_test)"
   ]
  },
  {
   "cell_type": "code",
   "execution_count": 7,
   "id": "4c838829-e85a-42e7-bf17-cc087603a2de",
   "metadata": {
    "tags": []
   },
   "outputs": [
    {
     "name": "stdout",
     "output_type": "stream",
     "text": [
      "Accuracy: 0.3956\n",
      "F1-score: 0.3702\n"
     ]
    }
   ],
   "source": [
    "accuracy = accuracy_score(y_test, preds)\n",
    "print(f'Accuracy: {accuracy:.4f}')\n",
    "f1 = f1_score(y_test, preds, average='weighted')\n",
    "print(f'F1-score: {f1:.4f}')"
   ]
  },
  {
   "cell_type": "markdown",
   "id": "3792aaa7-6b29-4b0b-9027-6ccaac532789",
   "metadata": {},
   "source": [
    "## Naive Bayes"
   ]
  },
  {
   "cell_type": "code",
   "execution_count": 10,
   "id": "05a7db55-e57f-42b0-ac71-17d97fc94689",
   "metadata": {
    "tags": []
   },
   "outputs": [],
   "source": [
    "# First need to use minmax scaler on data\n",
    "# Initializing the MinMaxScaler\n",
    "scaler = MinMaxScaler()\n",
    "\n",
    "# Transforming the data to be in the range [0, 1]\n",
    "X_train = scaler.fit_transform(X_train)\n",
    "X_test = scaler.transform(X_test)\n",
    "\n",
    "nb_model = MultinomialNB()\n",
    "nb_model.fit(X_train, y_train)\n",
    "nb_preds = nb_model.predict(X_test)"
   ]
  },
  {
   "cell_type": "code",
   "execution_count": 11,
   "id": "8dd4d538-09a2-4fa6-abf6-c0246f8ea99c",
   "metadata": {
    "tags": []
   },
   "outputs": [
    {
     "name": "stdout",
     "output_type": "stream",
     "text": [
      "Accuracy: 0.2291\n",
      "F1-score: 0.0854\n"
     ]
    }
   ],
   "source": [
    "accuracy = accuracy_score(y_test, nb_preds)\n",
    "print(f'Accuracy: {accuracy:.4f}')\n",
    "f1 = f1_score(y_test, nb_preds, average='weighted')\n",
    "print(f'F1-score: {f1:.4f}')"
   ]
  },
  {
   "cell_type": "markdown",
   "id": "d9dd3a77-af10-4633-a8a8-96deee05d3d5",
   "metadata": {
    "jp-MarkdownHeadingCollapsed": true,
    "tags": []
   },
   "source": [
    "# Grouping labels together into string\n",
    "In the previous models, I only looked at rows with single label, this time I will group the labels into a string if there are more than 1"
   ]
  },
  {
   "cell_type": "code",
   "execution_count": 10,
   "id": "d2420c21-6906-4e30-ba5a-35e4d9b56a2b",
   "metadata": {
    "tags": []
   },
   "outputs": [
    {
     "name": "stdout",
     "output_type": "stream",
     "text": [
      "          timestamp         x         y         z    labels  \\\n",
      "16822003    757.530 -0.092773 -0.808838 -0.648926         H   \n",
      "32760826    460.330 -0.593750 -1.140625 -0.531250  2-4_27-0   \n",
      "19163301     61.349  0.632813 -0.233643  0.663818      20-0   \n",
      "14507399    139.959  0.669922 -0.549316  0.293945      21-2   \n",
      "44941490    852.061 -0.766846  0.375244  0.566162     1-2_H   \n",
      "\n",
      "                                     filename  \n",
      "16822003            mac_ga_20150206_4.parquet  \n",
      "32760826         bailee_ga_20140311_1.parquet  \n",
      "19163301     kiss_drinking_20220504_1.parquet  \n",
      "14507399  leda_lickingpaws_20221107_1.parquet  \n",
      "44941490          oscar_ga_20150128_1.parquet  \n"
     ]
    }
   ],
   "source": [
    "sampled_df_2 = training_data.sample(n=40000, random_state=42)\n",
    "\n",
    "# Ensure labels are properly formatted\n",
    "def clean_labels(labels):\n",
    "    if isinstance(labels, (list, np.ndarray)):\n",
    "        return '_'.join(labels)  # Convert array to string\n",
    "    return label\n",
    "\n",
    "sampled_df_2['labels'] = sampled_df_2['labels'].apply(clean_labels)\n",
    "# We will still remove nulls\n",
    "# Remove any Nan from dataframe\n",
    "sampled_df_2 = sampled_df_2.dropna()\n",
    "sampled_df_2 = sampled_df_2[sampled_df_2.labels != 'NULL']\n",
    "print(sampled_df_2.head())\n",
    "\n",
    "# Now split into testing and training\n",
    "\n",
    "# Take feature and target label\n",
    "features_2 = sampled_df_2[['x', 'y', 'z']]\n",
    "target_2 = sampled_df_2['labels']\n",
    "\n",
    "# Split into training and testing\n",
    "X_train_2, X_test_2, y_train_2, y_test_2 = train_test_split(features_2, target_2, test_size=0.2, random_state=42)"
   ]
  },
  {
   "cell_type": "markdown",
   "id": "6f165f82-6390-4d33-b2a9-d3637ab109da",
   "metadata": {},
   "source": [
    "## Random Forest"
   ]
  },
  {
   "cell_type": "code",
   "execution_count": 11,
   "id": "9b935d03-a9d5-48bf-ad48-5747404e68e6",
   "metadata": {
    "collapsed": true,
    "jupyter": {
     "outputs_hidden": true
    },
    "tags": []
   },
   "outputs": [
    {
     "name": "stdout",
     "output_type": "stream",
     "text": [
      "building tree 1 of 100\n",
      "building tree 2 of 100\n",
      "building tree 3 of 100\n",
      "building tree 4 of 100\n",
      "building tree 5 of 100\n",
      "building tree 6 of 100\n",
      "building tree 7 of 100\n",
      "building tree 8 of 100\n",
      "building tree 9 of 100\n",
      "building tree 10 of 100\n",
      "building tree 11 of 100\n",
      "building tree 12 of 100\n",
      "building tree 13 of 100\n",
      "building tree 14 of 100\n",
      "building tree 15 of 100\n",
      "building tree 16 of 100\n",
      "building tree 17 of 100\n"
     ]
    },
    {
     "name": "stderr",
     "output_type": "stream",
     "text": [
      "[Parallel(n_jobs=1)]: Done  17 tasks      | elapsed:   11.1s\n"
     ]
    },
    {
     "name": "stdout",
     "output_type": "stream",
     "text": [
      "building tree 18 of 100\n",
      "building tree 19 of 100\n",
      "building tree 20 of 100\n",
      "building tree 21 of 100\n",
      "building tree 22 of 100\n",
      "building tree 23 of 100\n",
      "building tree 24 of 100\n",
      "building tree 25 of 100\n",
      "building tree 26 of 100\n",
      "building tree 27 of 100\n",
      "building tree 28 of 100\n",
      "building tree 29 of 100\n",
      "building tree 30 of 100\n",
      "building tree 31 of 100\n",
      "building tree 32 of 100\n",
      "building tree 33 of 100\n",
      "building tree 34 of 100\n",
      "building tree 35 of 100\n",
      "building tree 36 of 100\n",
      "building tree 37 of 100\n",
      "building tree 38 of 100\n",
      "building tree 39 of 100\n",
      "building tree 40 of 100\n",
      "building tree 41 of 100\n",
      "building tree 42 of 100\n",
      "building tree 43 of 100\n",
      "building tree 44 of 100\n",
      "building tree 45 of 100\n",
      "building tree 46 of 100\n",
      "building tree 47 of 100\n",
      "building tree 48 of 100\n",
      "building tree 49 of 100\n",
      "building tree 50 of 100\n",
      "building tree 51 of 100\n",
      "building tree 52 of 100\n",
      "building tree 53 of 100\n",
      "building tree 54 of 100\n",
      "building tree 55 of 100\n",
      "building tree 56 of 100\n",
      "building tree 57 of 100\n",
      "building tree 58 of 100\n",
      "building tree 59 of 100\n",
      "building tree 60 of 100\n",
      "building tree 61 of 100\n",
      "building tree 62 of 100\n",
      "building tree 63 of 100\n",
      "building tree 64 of 100\n",
      "building tree 65 of 100\n",
      "building tree 66 of 100\n",
      "building tree 67 of 100\n",
      "building tree 68 of 100\n",
      "building tree 69 of 100\n",
      "building tree 70 of 100\n",
      "building tree 71 of 100\n"
     ]
    },
    {
     "name": "stderr",
     "output_type": "stream",
     "text": [
      "[Parallel(n_jobs=1)]: Done  71 tasks      | elapsed:   46.5s\n"
     ]
    },
    {
     "name": "stdout",
     "output_type": "stream",
     "text": [
      "building tree 72 of 100\n",
      "building tree 73 of 100\n",
      "building tree 74 of 100\n",
      "building tree 75 of 100\n",
      "building tree 76 of 100\n",
      "building tree 77 of 100\n",
      "building tree 78 of 100\n",
      "building tree 79 of 100\n",
      "building tree 80 of 100\n",
      "building tree 81 of 100\n",
      "building tree 82 of 100\n",
      "building tree 83 of 100\n",
      "building tree 84 of 100\n",
      "building tree 85 of 100\n",
      "building tree 86 of 100\n",
      "building tree 87 of 100\n",
      "building tree 88 of 100\n",
      "building tree 89 of 100\n",
      "building tree 90 of 100\n",
      "building tree 91 of 100\n",
      "building tree 92 of 100\n",
      "building tree 93 of 100\n",
      "building tree 94 of 100\n",
      "building tree 95 of 100\n",
      "building tree 96 of 100\n",
      "building tree 97 of 100\n",
      "building tree 98 of 100\n",
      "building tree 99 of 100\n",
      "building tree 100 of 100\n"
     ]
    },
    {
     "name": "stderr",
     "output_type": "stream",
     "text": [
      "[Parallel(n_jobs=1)]: Done  17 tasks      | elapsed:    0.4s\n",
      "[Parallel(n_jobs=1)]: Done  71 tasks      | elapsed:    1.4s\n"
     ]
    }
   ],
   "source": [
    "# First need to use minmax scaler on data\n",
    "# Initializing the MinMaxScaler\n",
    "#scaler = MinMaxScaler()\n",
    "\n",
    "# Transforming the data to be in the range [0, 1]\n",
    "#X_train_2 = scaler.fit_transform(X_train_2)\n",
    "#X_test_2 = scaler.transform(X_test_2)\n",
    "\n",
    "# Train Model\n",
    "rf_model_2 = RandomForestClassifier(verbose=5)\n",
    "rf_model_2.fit(X_train_2, y_train_2)\n",
    "rf_preds_2 = rf_model_2.predict(X_test_2)"
   ]
  },
  {
   "cell_type": "code",
   "execution_count": 12,
   "id": "0b2eacd4-3fb1-4040-bea8-232e5032cafc",
   "metadata": {
    "tags": []
   },
   "outputs": [
    {
     "name": "stdout",
     "output_type": "stream",
     "text": [
      "Accuracy: 0.1578\n",
      "F1-score: 0.1372\n"
     ]
    }
   ],
   "source": [
    "accuracy = accuracy_score(y_test_2, rf_preds_2)\n",
    "print(f'Accuracy: {accuracy:.4f}')\n",
    "f1 = f1_score(y_test_2, rf_preds_2, average='weighted')\n",
    "print(f'F1-score: {f1:.4f}')"
   ]
  },
  {
   "cell_type": "markdown",
   "id": "1f9f13d3-ce56-4b87-99e1-faf7f5942813",
   "metadata": {},
   "source": [
    "## Naive Bayes"
   ]
  },
  {
   "cell_type": "code",
   "execution_count": 7,
   "id": "6ece7fa2-7269-4cdc-a439-13553ad0ccfd",
   "metadata": {
    "tags": []
   },
   "outputs": [],
   "source": [
    "# First need to use minmax scaler on data\n",
    "# Initializing the MinMaxScaler\n",
    "scaler = MinMaxScaler()\n",
    "\n",
    "# Transforming the data to be in the range [0, 1]\n",
    "X_train_2 = scaler.fit_transform(X_train_2)\n",
    "X_test_2 = scaler.transform(X_test_2)\n",
    "\n",
    "nb_model_2 = MultinomialNB()\n",
    "nb_model_2.fit(X_train_2, y_train_2)\n",
    "nb_preds_2 = nb_model_2.predict(X_test_2)"
   ]
  },
  {
   "cell_type": "code",
   "execution_count": 9,
   "id": "684c608d-7e90-49ca-802e-0f26ebe69e75",
   "metadata": {
    "tags": []
   },
   "outputs": [
    {
     "name": "stdout",
     "output_type": "stream",
     "text": [
      "Accuracy: 0.1041\n",
      "F1-score: 0.0196\n"
     ]
    }
   ],
   "source": [
    "accuracy = accuracy_score(y_test_2, nb_preds_2)\n",
    "print(f'Accuracy: {accuracy:.4f}')\n",
    "f1 = f1_score(y_test_2, nb_preds_2, average='weighted')\n",
    "print(f'F1-score: {f1:.4f}')"
   ]
  },
  {
   "cell_type": "markdown",
   "id": "e2b0a83f-75dc-4564-8526-4e141e4df6a0",
   "metadata": {
    "tags": []
   },
   "source": [
    "# Only Classifying Emotions"
   ]
  },
  {
   "cell_type": "code",
   "execution_count": 23,
   "id": "c749bdd5-f3a5-406d-81e1-223c04fabf92",
   "metadata": {
    "tags": []
   },
   "outputs": [
    {
     "data": {
      "text/html": [
       "<div>\n",
       "<style scoped>\n",
       "    .dataframe tbody tr th:only-of-type {\n",
       "        vertical-align: middle;\n",
       "    }\n",
       "\n",
       "    .dataframe tbody tr th {\n",
       "        vertical-align: top;\n",
       "    }\n",
       "\n",
       "    .dataframe thead th {\n",
       "        text-align: right;\n",
       "    }\n",
       "</style>\n",
       "<table border=\"1\" class=\"dataframe\">\n",
       "  <thead>\n",
       "    <tr style=\"text-align: right;\">\n",
       "      <th></th>\n",
       "      <th>timestamp</th>\n",
       "      <th>x</th>\n",
       "      <th>y</th>\n",
       "      <th>z</th>\n",
       "      <th>labels</th>\n",
       "      <th>filename</th>\n",
       "    </tr>\n",
       "  </thead>\n",
       "  <tbody>\n",
       "    <tr>\n",
       "      <th>13497564</th>\n",
       "      <td>0.01</td>\n",
       "      <td>0.219971</td>\n",
       "      <td>-2.150879</td>\n",
       "      <td>-1.247314</td>\n",
       "      <td>SM</td>\n",
       "      <td>aadi_ga_20150123_1.parquet</td>\n",
       "    </tr>\n",
       "    <tr>\n",
       "      <th>26846227</th>\n",
       "      <td>0.02</td>\n",
       "      <td>0.124756</td>\n",
       "      <td>-1.658203</td>\n",
       "      <td>-0.735352</td>\n",
       "      <td>SM</td>\n",
       "      <td>aadi_ga_20150123_1.parquet</td>\n",
       "    </tr>\n",
       "    <tr>\n",
       "      <th>6305228</th>\n",
       "      <td>0.04</td>\n",
       "      <td>0.148926</td>\n",
       "      <td>-1.443359</td>\n",
       "      <td>-0.931641</td>\n",
       "      <td>SM</td>\n",
       "      <td>aadi_ga_20150123_1.parquet</td>\n",
       "    </tr>\n",
       "    <tr>\n",
       "      <th>30245674</th>\n",
       "      <td>0.06</td>\n",
       "      <td>0.139893</td>\n",
       "      <td>-1.896484</td>\n",
       "      <td>-1.113281</td>\n",
       "      <td>SM</td>\n",
       "      <td>aadi_ga_20150123_1.parquet</td>\n",
       "    </tr>\n",
       "    <tr>\n",
       "      <th>11300293</th>\n",
       "      <td>0.08</td>\n",
       "      <td>0.358154</td>\n",
       "      <td>-2.125977</td>\n",
       "      <td>-1.261963</td>\n",
       "      <td>SM</td>\n",
       "      <td>aadi_ga_20150123_1.parquet</td>\n",
       "    </tr>\n",
       "  </tbody>\n",
       "</table>\n",
       "</div>"
      ],
      "text/plain": [
       "          timestamp         x         y         z labels  \\\n",
       "13497564       0.01  0.219971 -2.150879 -1.247314     SM   \n",
       "26846227       0.02  0.124756 -1.658203 -0.735352     SM   \n",
       "6305228        0.04  0.148926 -1.443359 -0.931641     SM   \n",
       "30245674       0.06  0.139893 -1.896484 -1.113281     SM   \n",
       "11300293       0.08  0.358154 -2.125977 -1.261963     SM   \n",
       "\n",
       "                            filename  \n",
       "13497564  aadi_ga_20150123_1.parquet  \n",
       "26846227  aadi_ga_20150123_1.parquet  \n",
       "6305228   aadi_ga_20150123_1.parquet  \n",
       "30245674  aadi_ga_20150123_1.parquet  \n",
       "11300293  aadi_ga_20150123_1.parquet  "
      ]
     },
     "execution_count": 23,
     "metadata": {},
     "output_type": "execute_result"
    }
   ],
   "source": [
    "# Explode it first\n",
    "exploded = training_data.explode('labels')\n",
    "exploded.head()"
   ]
  },
  {
   "cell_type": "code",
   "execution_count": 24,
   "id": "d42d67df-4306-480a-b999-b6cb4649e270",
   "metadata": {},
   "outputs": [],
   "source": [
    "filtered_movements = exploded[exploded['labels'].isin(['26-0','5-0','12-0','4-0','18-0','X1','19-0','20-0'])]"
   ]
  },
  {
   "cell_type": "code",
   "execution_count": 25,
   "id": "4c16168e-acdc-4cbb-9458-d9739e10f5f2",
   "metadata": {
    "tags": []
   },
   "outputs": [
    {
     "name": "stdout",
     "output_type": "stream",
     "text": [
      "1282262\n"
     ]
    }
   ],
   "source": [
    "print(len(filtered_movements))"
   ]
  },
  {
   "cell_type": "code",
   "execution_count": 32,
   "id": "d5fcfe74-0a89-43db-a387-993bde7049b0",
   "metadata": {
    "tags": []
   },
   "outputs": [
    {
     "name": "stdout",
     "output_type": "stream",
     "text": [
      "1-2      12246614\n",
      "NULL      9841366\n",
      "2-0       7367810\n",
      "H         4688794\n",
      "23-2      4485260\n",
      "           ...   \n",
      "5-0            54\n",
      "4-1            38\n",
      "21-B           18\n",
      "1-0             5\n",
      "1-C2            2\n",
      "Name: labels, Length: 166, dtype: int64\n"
     ]
    }
   ],
   "source": [
    "\n",
    "filtered_movements.labels.unique()\n",
    "x = exploded['labels'].value_counts()\n",
    "#for a, b in exploded['labels'].value_counts():\n",
    " #   print(a, b)\n",
    "    \n",
    "print(x)"
   ]
  },
  {
   "cell_type": "code",
   "execution_count": 20,
   "id": "c626ecc4-f7eb-45cf-a5bd-a1988240241e",
   "metadata": {
    "tags": []
   },
   "outputs": [
    {
     "data": {
      "text/plain": [
       "array(['SM', 'NULL', '2-0', '1-2', '2-4', '2-7', '1-1', '21-1D', '21-1A',\n",
       "       '1-C2', '1-C', '21-1B', '5-1', '1-C1', '21-1C', 'H', '1-A2', '4-2',\n",
       "       '5-5', '4-1', '50-0', '33-0', '2-3B', '1-3', '29-4', '29-3', '3-1',\n",
       "       '43-0', '1-A1', '21-5', '41-0', '35-0', '19-2', '3-2', '4-0',\n",
       "       '35-1', '36-0', '44-0', '40-6', 'P', '23-2', '40-5', '22-2',\n",
       "       '23-1', '22-1', '46-0', '20-0', '30-1', '23-3', '40-2', '29-0',\n",
       "       '23-4', '27-0', '3-0', '29-2', '29-1', '30-0', '32-0', '40-7',\n",
       "       '21-2', '40-4', '28-0', '19-1', '21-4', '2-6A', '5-3', '1-5',\n",
       "       '2-6', '1-B2', '1-B1', '2-5', '5-4', '45-0', '29-6', '3-3', '5-2',\n",
       "       'X1', '3-6', '3-5', '40-0', '40-3', 'S', '48-0', '21-3', '1-U',\n",
       "       '40-1', '21-1', '2', '28', '46', '26-0', '2-8', '31-0', '26-2',\n",
       "       '35-2', '42-0', '4', '00', '26-1', '39', '29-5', '21-0', '1-2 ',\n",
       "       'H  ', '2-0  ', '2-4 ', '2-0 ', '2-4  ', '1-2  ', '5-5 ', '1-C2  ',\n",
       "       '5-5  ', ' 2-0', ' 1-C1 ', '1-2   ', 'H ', ' 5-5', '2-3A', '34-1',\n",
       "       '38-0', '2-1', '12-C2', '37-0', '1-4', '3-4', '23-0', '2-3',\n",
       "       'Unknown label', '1-C2 ', '42-0 ', '1-1 ', ' 5-1', ' 1-2 ',\n",
       "       '1-C  ', '5-0', '21-2D', '21-12', '21-B', '20-0 ', '1-0', '12-B2',\n",
       "       '5-55', '43-1', '1-1   ', '4-1 ', ' 1-2', ' 4-2', '5-1  ', '5-1 ',\n",
       "       '1-B1  ', '12-B1', '2-2', '12-A1', '37-2', ' 1-C2 ', ' 1-A1 ',\n",
       "       ' 2-4 ', ' 2-4', ' 1-1 ', ' 1-C', '  2-4', '1-2       ', '12-A2',\n",
       "       '19-0', '25-1', '34-0'], dtype=object)"
      ]
     },
     "execution_count": 20,
     "metadata": {},
     "output_type": "execute_result"
    }
   ],
   "source": [
    "exploded.labels.unique()"
   ]
  },
  {
   "cell_type": "code",
   "execution_count": null,
   "id": "2990e300-6b92-4a17-a763-4a5ba5142fbb",
   "metadata": {},
   "outputs": [],
   "source": []
  }
 ],
 "metadata": {
  "kernelspec": {
   "display_name": "Python 3 (ipykernel)",
   "language": "python",
   "name": "python3"
  },
  "language_info": {
   "codemirror_mode": {
    "name": "ipython",
    "version": 3
   },
   "file_extension": ".py",
   "mimetype": "text/x-python",
   "name": "python",
   "nbconvert_exporter": "python",
   "pygments_lexer": "ipython3",
   "version": "3.10.9"
  }
 },
 "nbformat": 4,
 "nbformat_minor": 5
}
